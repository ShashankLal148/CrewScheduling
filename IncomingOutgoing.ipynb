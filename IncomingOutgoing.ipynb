{
 "cells": [
  {
   "cell_type": "code",
   "execution_count": 2,
   "metadata": {},
   "outputs": [
    {
     "name": "stdout",
     "output_type": "stream",
     "text": [
      "Excel file 'station_train_counts.xlsx' has been created.\n"
     ]
    }
   ],
   "source": [
    "import pandas as pd\n",
    "\n",
    "# Load the data from the CSV file\n",
    "edges_df = pd.read_csv('train_edges_repeated_days.csv')\n",
    "\n",
    "# Count outgoing trains for each station by counting occurrences in StartingStationCode\n",
    "outgoing_counts = edges_df['StartingStationCode'].value_counts()\n",
    "\n",
    "# Count incoming trains for each station by counting occurrences in ArrivingStationCode\n",
    "incoming_counts = edges_df['ArrivingStationCode'].value_counts()\n",
    "\n",
    "# Combine the counts into a single DataFrame, filling missing values with 0\n",
    "station_counts = pd.DataFrame({\n",
    "    'OutgoingTrains': outgoing_counts,\n",
    "    'IncomingTrains': incoming_counts\n",
    "}).fillna(0)\n",
    "\n",
    "# Convert counts to integer type for clarity\n",
    "station_counts = station_counts.astype(int)\n",
    "\n",
    "# Save the DataFrame to an Excel file\n",
    "station_counts.to_excel('station_train_counts.xlsx', sheet_name='TrainCounts')\n",
    "\n",
    "print(\"Excel file 'station_train_counts.xlsx' has been created.\")\n"
   ]
  }
 ],
 "metadata": {
  "kernelspec": {
   "display_name": "Python 3",
   "language": "python",
   "name": "python3"
  },
  "language_info": {
   "codemirror_mode": {
    "name": "ipython",
    "version": 3
   },
   "file_extension": ".py",
   "mimetype": "text/x-python",
   "name": "python",
   "nbconvert_exporter": "python",
   "pygments_lexer": "ipython3",
   "version": "3.8.10"
  }
 },
 "nbformat": 4,
 "nbformat_minor": 2
}
